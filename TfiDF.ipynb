{
 "cells": [
  {
   "cell_type": "code",
   "execution_count": 7,
   "metadata": {},
   "outputs": [],
   "source": [
    "import numpy as np\n",
    "import pandas as pd\n",
    "import matplotlib.pyplot as plt\n",
    "%matplotlib inline\n",
    "from nltk.corpus import stopwords\n",
    "import re\n",
    "import string\n",
    "from sklearn.preprocessing import StandardScaler\n",
    "from sklearn.feature_extraction.text import CountVectorizer\n",
    "from sklearn.feature_extraction.text import TfidfVectorizer\n",
    "import nltk"
   ]
  },
  {
   "cell_type": "code",
   "execution_count": 2,
   "metadata": {},
   "outputs": [
    {
     "data": {
      "text/html": [
       "<div>\n",
       "<style scoped>\n",
       "    .dataframe tbody tr th:only-of-type {\n",
       "        vertical-align: middle;\n",
       "    }\n",
       "\n",
       "    .dataframe tbody tr th {\n",
       "        vertical-align: top;\n",
       "    }\n",
       "\n",
       "    .dataframe thead th {\n",
       "        text-align: right;\n",
       "    }\n",
       "</style>\n",
       "<table border=\"1\" class=\"dataframe\">\n",
       "  <thead>\n",
       "    <tr style=\"text-align: right;\">\n",
       "      <th></th>\n",
       "      <th>Title</th>\n",
       "      <th>Conditions</th>\n",
       "      <th>Interventions</th>\n",
       "      <th>Phases</th>\n",
       "    </tr>\n",
       "  </thead>\n",
       "  <tbody>\n",
       "    <tr>\n",
       "      <th>0</th>\n",
       "      <td>Study of SD-101 in Combination With Localized ...</td>\n",
       "      <td>B-cell Lymphoma</td>\n",
       "      <td>Drug: SD-101|Radiation: Radiation therapy</td>\n",
       "      <td>Phase 1|Phase 2</td>\n",
       "    </tr>\n",
       "    <tr>\n",
       "      <th>1</th>\n",
       "      <td>Bruton's Tyrosine Kinase (BTK) Inhibition in B...</td>\n",
       "      <td>B-cell Lymphoma</td>\n",
       "      <td>Drug: Ibrutinib and immunochemotherapies</td>\n",
       "      <td>Phase 1</td>\n",
       "    </tr>\n",
       "    <tr>\n",
       "      <th>2</th>\n",
       "      <td>A Study Evaluating CPI-1205 in Patients With B...</td>\n",
       "      <td>B-Cell Lymphoma</td>\n",
       "      <td>Drug: CPI-1205</td>\n",
       "      <td>Phase 1</td>\n",
       "    </tr>\n",
       "    <tr>\n",
       "      <th>3</th>\n",
       "      <td>Treatment of Mature B-cell Lymphoma/Leukaemia</td>\n",
       "      <td>B-Cell Lymphoma</td>\n",
       "      <td>Drug: half cyclophosphamide|Drug: without COPA...</td>\n",
       "      <td>Phase 3</td>\n",
       "    </tr>\n",
       "    <tr>\n",
       "      <th>4</th>\n",
       "      <td>INCB050465 in Combination With Rituximab, Bend...</td>\n",
       "      <td>B-cell Lymphoma</td>\n",
       "      <td>Drug: INCB050465|Drug: Rituximab|Drug: Bendamu...</td>\n",
       "      <td>Phase 1</td>\n",
       "    </tr>\n",
       "  </tbody>\n",
       "</table>\n",
       "</div>"
      ],
      "text/plain": [
       "                                               Title       Conditions  \\\n",
       "0  Study of SD-101 in Combination With Localized ...  B-cell Lymphoma   \n",
       "1  Bruton's Tyrosine Kinase (BTK) Inhibition in B...  B-cell Lymphoma   \n",
       "2  A Study Evaluating CPI-1205 in Patients With B...  B-Cell Lymphoma   \n",
       "3      Treatment of Mature B-cell Lymphoma/Leukaemia  B-Cell Lymphoma   \n",
       "4  INCB050465 in Combination With Rituximab, Bend...  B-cell Lymphoma   \n",
       "\n",
       "                                       Interventions           Phases  \n",
       "0          Drug: SD-101|Radiation: Radiation therapy  Phase 1|Phase 2  \n",
       "1           Drug: Ibrutinib and immunochemotherapies          Phase 1  \n",
       "2                                     Drug: CPI-1205          Phase 1  \n",
       "3  Drug: half cyclophosphamide|Drug: without COPA...          Phase 3  \n",
       "4  Drug: INCB050465|Drug: Rituximab|Drug: Bendamu...          Phase 1  "
      ]
     },
     "execution_count": 2,
     "metadata": {},
     "output_type": "execute_result"
    }
   ],
   "source": [
    "data = pd.read_csv('SearchResults.csv')\n",
    "cols_to_drop = ['Rank', 'NCT Number', 'Acronym', 'Status', 'Study Results',\n",
    "         'Outcome Measures',\n",
    "       'Sponsor/Collaborators', 'Gender', 'Age', 'Enrollment',\n",
    "       'Funded Bys', 'Study Type', 'Study Designs', 'Other IDs', 'Start Date',\n",
    "       'Primary Completion Date', 'Completion Date', 'First Posted',\n",
    "       'Results First Posted', 'Last Update Posted', 'Locations',\n",
    "       'Study Documents', 'URL']\n",
    "\n",
    "for col in cols_to_drop:\n",
    "    data = data.drop([col],axis=1)\n",
    "data.head()"
   ]
  },
  {
   "cell_type": "code",
   "execution_count": 3,
   "metadata": {},
   "outputs": [],
   "source": [
    "def remove_punctuations_from_string(string1):\n",
    "    string1 = string1.lower() #changing to lower case\n",
    "    translation_table = dict.fromkeys(map(ord, string.punctuation), ' ') #creating dictionary of punc & None\n",
    "    string2 = string1.translate(translation_table) #translating string1\n",
    "    return string2\n",
    "\n",
    "def remove_stopwords_from_string(string1):\n",
    "    pattern = re.compile(r'\\b(' + r'|'.join(nltk.corpus.stopwords.words('english')) + r')\\b\\s*') #compiling all stopwords.\n",
    "    string2 = pattern.sub('', string1) #replacing the occurrences of stopwords in string1\n",
    "    return string2"
   ]
  },
  {
   "cell_type": "code",
   "execution_count": 5,
   "metadata": {},
   "outputs": [],
   "source": [
    "data['Interventions'] = data['Interventions'].astype(str)\n",
    "data['Title'] = data['Title'].astype(str)"
   ]
  },
  {
   "cell_type": "code",
   "execution_count": 8,
   "metadata": {},
   "outputs": [
    {
     "data": {
      "text/html": [
       "<div>\n",
       "<style scoped>\n",
       "    .dataframe tbody tr th:only-of-type {\n",
       "        vertical-align: middle;\n",
       "    }\n",
       "\n",
       "    .dataframe tbody tr th {\n",
       "        vertical-align: top;\n",
       "    }\n",
       "\n",
       "    .dataframe thead th {\n",
       "        text-align: right;\n",
       "    }\n",
       "</style>\n",
       "<table border=\"1\" class=\"dataframe\">\n",
       "  <thead>\n",
       "    <tr style=\"text-align: right;\">\n",
       "      <th></th>\n",
       "      <th>Title</th>\n",
       "      <th>Conditions</th>\n",
       "      <th>Interventions</th>\n",
       "      <th>Phases</th>\n",
       "    </tr>\n",
       "  </thead>\n",
       "  <tbody>\n",
       "    <tr>\n",
       "      <th>0</th>\n",
       "      <td>study sd 101 combination localized low dose ra...</td>\n",
       "      <td>B-cell Lymphoma</td>\n",
       "      <td>drug  sd 101 radiation  radiation therapy</td>\n",
       "      <td>Phase 1|Phase 2</td>\n",
       "    </tr>\n",
       "    <tr>\n",
       "      <th>1</th>\n",
       "      <td>bruton tyrosine kinase  btk  inhibition b cell...</td>\n",
       "      <td>B-cell Lymphoma</td>\n",
       "      <td>drug  ibrutinib immunochemotherapies</td>\n",
       "      <td>Phase 1</td>\n",
       "    </tr>\n",
       "    <tr>\n",
       "      <th>2</th>\n",
       "      <td>study evaluating cpi 1205 patients b cell lymp...</td>\n",
       "      <td>B-Cell Lymphoma</td>\n",
       "      <td>drug  cpi 1205</td>\n",
       "      <td>Phase 1</td>\n",
       "    </tr>\n",
       "    <tr>\n",
       "      <th>3</th>\n",
       "      <td>treatment mature b cell lymphoma leukaemia</td>\n",
       "      <td>B-Cell Lymphoma</td>\n",
       "      <td>drug  half cyclophosphamide drug  without copa...</td>\n",
       "      <td>Phase 3</td>\n",
       "    </tr>\n",
       "    <tr>\n",
       "      <th>4</th>\n",
       "      <td>incb050465 combination rituximab  bendamustine...</td>\n",
       "      <td>B-cell Lymphoma</td>\n",
       "      <td>drug  incb050465 drug  rituximab drug  bendamu...</td>\n",
       "      <td>Phase 1</td>\n",
       "    </tr>\n",
       "  </tbody>\n",
       "</table>\n",
       "</div>"
      ],
      "text/plain": [
       "                                               Title       Conditions  \\\n",
       "0  study sd 101 combination localized low dose ra...  B-cell Lymphoma   \n",
       "1  bruton tyrosine kinase  btk  inhibition b cell...  B-cell Lymphoma   \n",
       "2  study evaluating cpi 1205 patients b cell lymp...  B-Cell Lymphoma   \n",
       "3         treatment mature b cell lymphoma leukaemia  B-Cell Lymphoma   \n",
       "4  incb050465 combination rituximab  bendamustine...  B-cell Lymphoma   \n",
       "\n",
       "                                       Interventions           Phases  \n",
       "0          drug  sd 101 radiation  radiation therapy  Phase 1|Phase 2  \n",
       "1               drug  ibrutinib immunochemotherapies          Phase 1  \n",
       "2                                     drug  cpi 1205          Phase 1  \n",
       "3  drug  half cyclophosphamide drug  without copa...          Phase 3  \n",
       "4  drug  incb050465 drug  rituximab drug  bendamu...          Phase 1  "
      ]
     },
     "execution_count": 8,
     "metadata": {},
     "output_type": "execute_result"
    }
   ],
   "source": [
    "data['Interventions'] = data['Interventions'].apply(lambda x:remove_punctuations_from_string(x))\n",
    "data['Interventions'] = data['Interventions'].apply(lambda x:remove_stopwords_from_string(x))\n",
    "data['Title'] = data['Title'].apply(lambda x:remove_punctuations_from_string(x))\n",
    "data['Title'] = data['Title'].apply(lambda x:remove_stopwords_from_string(x))\n",
    "data.head()"
   ]
  },
  {
   "cell_type": "code",
   "execution_count": 9,
   "metadata": {},
   "outputs": [],
   "source": [
    "data['Phases'] = data['Phases'].astype(str)"
   ]
  },
  {
   "cell_type": "code",
   "execution_count": 10,
   "metadata": {},
   "outputs": [
    {
     "data": {
      "text/html": [
       "<div>\n",
       "<style scoped>\n",
       "    .dataframe tbody tr th:only-of-type {\n",
       "        vertical-align: middle;\n",
       "    }\n",
       "\n",
       "    .dataframe tbody tr th {\n",
       "        vertical-align: top;\n",
       "    }\n",
       "\n",
       "    .dataframe thead th {\n",
       "        text-align: right;\n",
       "    }\n",
       "</style>\n",
       "<table border=\"1\" class=\"dataframe\">\n",
       "  <thead>\n",
       "    <tr style=\"text-align: right;\">\n",
       "      <th></th>\n",
       "      <th>Title</th>\n",
       "      <th>Conditions</th>\n",
       "      <th>Interventions</th>\n",
       "      <th>Phases</th>\n",
       "    </tr>\n",
       "  </thead>\n",
       "  <tbody>\n",
       "    <tr>\n",
       "      <th>0</th>\n",
       "      <td>study sd 101 combination localized low dose ra...</td>\n",
       "      <td>B-cell Lymphoma</td>\n",
       "      <td>drug  sd 101 radiation  radiation therapy</td>\n",
       "      <td>phase 1 phase 2</td>\n",
       "    </tr>\n",
       "    <tr>\n",
       "      <th>1</th>\n",
       "      <td>bruton tyrosine kinase  btk  inhibition b cell...</td>\n",
       "      <td>B-cell Lymphoma</td>\n",
       "      <td>drug  ibrutinib immunochemotherapies</td>\n",
       "      <td>phase 1</td>\n",
       "    </tr>\n",
       "    <tr>\n",
       "      <th>2</th>\n",
       "      <td>study evaluating cpi 1205 patients b cell lymp...</td>\n",
       "      <td>B-Cell Lymphoma</td>\n",
       "      <td>drug  cpi 1205</td>\n",
       "      <td>phase 1</td>\n",
       "    </tr>\n",
       "    <tr>\n",
       "      <th>3</th>\n",
       "      <td>treatment mature b cell lymphoma leukaemia</td>\n",
       "      <td>B-Cell Lymphoma</td>\n",
       "      <td>drug  half cyclophosphamide drug  without copa...</td>\n",
       "      <td>phase 3</td>\n",
       "    </tr>\n",
       "    <tr>\n",
       "      <th>4</th>\n",
       "      <td>incb050465 combination rituximab  bendamustine...</td>\n",
       "      <td>B-cell Lymphoma</td>\n",
       "      <td>drug  incb050465 drug  rituximab drug  bendamu...</td>\n",
       "      <td>phase 1</td>\n",
       "    </tr>\n",
       "  </tbody>\n",
       "</table>\n",
       "</div>"
      ],
      "text/plain": [
       "                                               Title       Conditions  \\\n",
       "0  study sd 101 combination localized low dose ra...  B-cell Lymphoma   \n",
       "1  bruton tyrosine kinase  btk  inhibition b cell...  B-cell Lymphoma   \n",
       "2  study evaluating cpi 1205 patients b cell lymp...  B-Cell Lymphoma   \n",
       "3         treatment mature b cell lymphoma leukaemia  B-Cell Lymphoma   \n",
       "4  incb050465 combination rituximab  bendamustine...  B-cell Lymphoma   \n",
       "\n",
       "                                       Interventions           Phases  \n",
       "0          drug  sd 101 radiation  radiation therapy  phase 1 phase 2  \n",
       "1               drug  ibrutinib immunochemotherapies          phase 1  \n",
       "2                                     drug  cpi 1205          phase 1  \n",
       "3  drug  half cyclophosphamide drug  without copa...          phase 3  \n",
       "4  drug  incb050465 drug  rituximab drug  bendamu...          phase 1  "
      ]
     },
     "execution_count": 10,
     "metadata": {},
     "output_type": "execute_result"
    }
   ],
   "source": [
    "data['Phases'] = data['Phases'].apply(lambda x:remove_punctuations_from_string(x))\n",
    "data['Phases'] = data['Phases'].apply(lambda x:remove_stopwords_from_string(x))\n",
    "data.head()"
   ]
  },
  {
   "cell_type": "code",
   "execution_count": 11,
   "metadata": {},
   "outputs": [],
   "source": [
    "data = data.drop(['Conditions'],axis=1)"
   ]
  },
  {
   "cell_type": "code",
   "execution_count": 13,
   "metadata": {},
   "outputs": [],
   "source": [
    "tfidf_vectorizer = TfidfVectorizer(ngram_range=(1,15), analyzer='char')"
   ]
  },
  {
   "cell_type": "code",
   "execution_count": 17,
   "metadata": {},
   "outputs": [],
   "source": [
    "data_tfidf_char_fit = tfidf_vectorizer.fit_transform(data)\n"
   ]
  },
  {
   "cell_type": "code",
   "execution_count": 19,
   "metadata": {},
   "outputs": [
    {
     "data": {
      "text/plain": [
       "<3x113 sparse matrix of type '<class 'numpy.float64'>'\n",
       "\twith 119 stored elements in Compressed Sparse Row format>"
      ]
     },
     "execution_count": 19,
     "metadata": {},
     "output_type": "execute_result"
    }
   ],
   "source": [
    "data_tfidf_char_fit"
   ]
  },
  {
   "cell_type": "code",
   "execution_count": 20,
   "metadata": {},
   "outputs": [],
   "source": [
    "data['tf_features'] = data_tfidf_char_fit"
   ]
  },
  {
   "cell_type": "code",
   "execution_count": 23,
   "metadata": {},
   "outputs": [],
   "source": [
    "from sklearn.cluster import KMeans\n",
    "from sklearn.model_selection import KFold,train_test_split"
   ]
  },
  {
   "cell_type": "code",
   "execution_count": 24,
   "metadata": {},
   "outputs": [],
   "source": [
    "data2 = pd.read_csv('data_processed.csv')\n",
    "data['KM_label'] = data2['KMeans_24clust']"
   ]
  },
  {
   "cell_type": "code",
   "execution_count": 25,
   "metadata": {},
   "outputs": [],
   "source": [
    "del data2"
   ]
  },
  {
   "cell_type": "code",
   "execution_count": null,
   "metadata": {},
   "outputs": [],
   "source": []
  },
  {
   "cell_type": "code",
   "execution_count": null,
   "metadata": {},
   "outputs": [],
   "source": []
  },
  {
   "cell_type": "code",
   "execution_count": null,
   "metadata": {},
   "outputs": [],
   "source": [
    "\n"
   ]
  },
  {
   "cell_type": "code",
   "execution_count": null,
   "metadata": {},
   "outputs": [],
   "source": []
  }
 ],
 "metadata": {
  "kernelspec": {
   "display_name": "Python 3",
   "language": "python",
   "name": "python3"
  },
  "language_info": {
   "codemirror_mode": {
    "name": "ipython",
    "version": 3
   },
   "file_extension": ".py",
   "mimetype": "text/x-python",
   "name": "python",
   "nbconvert_exporter": "python",
   "pygments_lexer": "ipython3",
   "version": "3.6.5"
  }
 },
 "nbformat": 4,
 "nbformat_minor": 2
}
